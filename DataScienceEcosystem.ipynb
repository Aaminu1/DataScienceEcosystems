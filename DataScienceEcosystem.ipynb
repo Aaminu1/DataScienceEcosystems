{
 "cells": [
  {
   "cell_type": "markdown",
   "id": "9e3024d9",
   "metadata": {},
   "source": [
    "#Create a markdown cell with the title Data Science Tools and Ecosystem using H1 style heading?\n",
    "\n",
    "# H1: Data Science Tools and Ecosystem"
   ]
  },
  {
   "cell_type": "markdown",
   "id": "d4bcb441",
   "metadata": {},
   "source": [
    "#Create a markdown cell for an introduction.\n",
    "\n",
    "#Write an introductory sentence about the notebook?\n",
    "\n",
    "**In this notebook, Data Science Tools and Ecosystem are summarized.**"
   ]
  },
  {
   "cell_type": "markdown",
   "id": "6f1660c3",
   "metadata": {},
   "source": [
    "#Insert a markdown cell to list Objectives\n",
    "\n",
    "**Objectives**\n",
    "\n",
    "- List popular languages for Data Science\n",
    "- Some of the commonly used libraries used by Data Scientists\n",
    "- Data Science Tools\n",
    "- Creating a markdown cell introducing arithmetic expression\n",
    "- Hours to minutes convertion"
   ]
  },
  {
   "cell_type": "markdown",
   "id": "fcb813db",
   "metadata": {},
   "source": [
    "#Create a markdown cell to list data science languages?\n",
    "\n",
    "Some of the popular languages that Data Scientists use are:\n",
    "1. R\n",
    "2. Python\n",
    "3. Structured Query Language SQL\n",
    "4. Java\n",
    "5. Julia\n",
    "6. Scala"
   ]
  },
  {
   "cell_type": "markdown",
   "id": "0b997d69",
   "metadata": {},
   "source": [
    "#Create a markdown cell to list data science libraries?\n",
    "\n",
    "Some of the commonly used libraries used by Data Scientists include:\n",
    "1. TensorFlow\n",
    "2. NumPy\n",
    "3. Pandas\n",
    "4. Matpotlib\n",
    "5. SciPy\n",
    "6. Keras"
   ]
  },
  {
   "cell_type": "markdown",
   "id": "66afb86d",
   "metadata": {},
   "source": [
    "#Create a markdown cell with a table of Data Science tools?\n",
    "\n",
    "|Data Science Tools|\n",
    "|---------------------------|\n",
    "|RStudio|\n",
    "|Apache Spark|\n",
    "|RapidMiner|"
   ]
  },
  {
   "cell_type": "markdown",
   "id": "99feabe6",
   "metadata": {},
   "source": [
    "#Create a markdown cell introducing arithmetic expression examples?\n",
    "\n",
    "Add a line in this cell with H3 style heading with text like:\n",
    "\n",
    "### H3: Below are a few examples of evaluating arithmetic expressions in Python."
   ]
  },
  {
   "cell_type": "code",
   "execution_count": 1,
   "id": "79d5843d",
   "metadata": {},
   "outputs": [
    {
     "data": {
      "text/plain": [
       "17"
      ]
     },
     "execution_count": 1,
     "metadata": {},
     "output_type": "execute_result"
    }
   ],
   "source": [
    "#Create a code cell to multiply and add numbers?\n",
    "\n",
    "#This a simple arithmetic expression to mutiply then add integers\n",
    "\n",
    "(3*4)+5\n"
   ]
  },
  {
   "cell_type": "code",
   "execution_count": 2,
   "id": "06ee7e59",
   "metadata": {},
   "outputs": [
    {
     "data": {
      "text/plain": [
       "3.3333333333333335"
      ]
     },
     "execution_count": 2,
     "metadata": {},
     "output_type": "execute_result"
    }
   ],
   "source": [
    "#Create a code cell to convert minutes to hours?\n",
    "\n",
    "#This will convert 200 minutes to hours by diving by 60\n",
    "\n",
    "200/60"
   ]
  },
  {
   "cell_type": "markdown",
   "id": "bf50b128",
   "metadata": {},
   "source": [
    "#Create a markdown cell to indicate the Author's name\n",
    "\n",
    "# H2: Author\n",
    "\n",
    "Aminu Adamu Habib"
   ]
  },
  {
   "cell_type": "code",
   "execution_count": null,
   "id": "2b8df063",
   "metadata": {},
   "outputs": [],
   "source": []
  }
 ],
 "metadata": {
  "kernelspec": {
   "display_name": "Python 3 (ipykernel)",
   "language": "python",
   "name": "python3"
  },
  "language_info": {
   "codemirror_mode": {
    "name": "ipython",
    "version": 3
   },
   "file_extension": ".py",
   "mimetype": "text/x-python",
   "name": "python",
   "nbconvert_exporter": "python",
   "pygments_lexer": "ipython3",
   "version": "3.9.7"
  }
 },
 "nbformat": 4,
 "nbformat_minor": 5
}
